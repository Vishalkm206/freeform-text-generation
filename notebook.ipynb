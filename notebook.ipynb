{
 "cells": [
  {
   "cell_type": "code",
   "execution_count": 1,
   "metadata": {},
   "outputs": [
    {
     "name": "stderr",
     "output_type": "stream",
     "text": [
      "d:\\Project\\FreeformTextGenerator\\myenv\\Lib\\site-packages\\tqdm\\auto.py:21: TqdmWarning: IProgress not found. Please update jupyter and ipywidgets. See https://ipywidgets.readthedocs.io/en/stable/user_install.html\n",
      "  from .autonotebook import tqdm as notebook_tqdm\n",
      "Downloading readme: 100%|██████████| 12.9k/12.9k [00:00<00:00, 9.80MB/s]\n",
      "Downloading data: 100%|██████████| 381k/381k [00:01<00:00, 276kB/s]\n",
      "Generating train split: 100%|██████████| 400/400 [00:00<00:00, 1636.67 examples/s]\n"
     ]
    }
   ],
   "source": [
    "from datasets import load_dataset\n",
    "\n",
    "ds = load_dataset(\"allenai/commongen_lite\")"
   ]
  },
  {
   "cell_type": "code",
   "execution_count": 28,
   "metadata": {},
   "outputs": [],
   "source": [
    "import pandas as pd"
   ]
  },
  {
   "cell_type": "code",
   "execution_count": 31,
   "metadata": {},
   "outputs": [
    {
     "data": {
      "text/plain": [
       "'# Instruction\\n\\nGiven several concepts (i.e., nouns or verbs), write a short and simple sentence that contains *all* the required words.\\nThe sentence should describe a common scene in daily life, and the concepts should be used in a natural way.\\n\\n# Examples\\n\\n## Example 1\\n- Concepts: \"dog(noun), frisbee(noun), catch(verb), throw(verb)\"\\n- Sentence: The dog catches the frisbee when the boy throws it into the air.\\n\\n## Example 2\\n- Concepts: \"apple(noun), place(verb), tree(noun), pick(verb)\"\\n- Sentence: A girl picks some apples from a tree and places them into her basket.\\n\\n# Your Task \\n\\n- Concepts: \"catch(verb), dog(noun), frisbee(noun), throw(verb)\"\\n- Sentence: '"
      ]
     },
     "execution_count": 31,
     "metadata": {},
     "output_type": "execute_result"
    }
   ],
   "source": [
    "ds['train']['instruction'][0]"
   ]
  },
  {
   "cell_type": "code",
   "execution_count": 29,
   "metadata": {},
   "outputs": [
    {
     "data": {
      "text/html": [
       "<div>\n",
       "<style scoped>\n",
       "    .dataframe tbody tr th:only-of-type {\n",
       "        vertical-align: middle;\n",
       "    }\n",
       "\n",
       "    .dataframe tbody tr th {\n",
       "        vertical-align: top;\n",
       "    }\n",
       "\n",
       "    .dataframe thead th {\n",
       "        text-align: right;\n",
       "    }\n",
       "</style>\n",
       "<table border=\"1\" class=\"dataframe\">\n",
       "  <thead>\n",
       "    <tr style=\"text-align: right;\">\n",
       "      <th></th>\n",
       "      <th>instruction</th>\n",
       "      <th>human_annotations</th>\n",
       "      <th>concept_set</th>\n",
       "      <th>id</th>\n",
       "    </tr>\n",
       "  </thead>\n",
       "  <tbody>\n",
       "    <tr>\n",
       "      <th>0</th>\n",
       "      <td># Instruction\\n\\nGiven several concepts (i.e.,...</td>\n",
       "      <td>[]</td>\n",
       "      <td>[catch_V, dog_N, frisbee_N, throw_V]</td>\n",
       "      <td>468fa6fbb21bc3b0d8c156a628cbf222</td>\n",
       "    </tr>\n",
       "    <tr>\n",
       "      <th>1</th>\n",
       "      <td># Instruction\\n\\nGiven several concepts (i.e.,...</td>\n",
       "      <td>[]</td>\n",
       "      <td>[food_N, front_N, sit_V, table_N]</td>\n",
       "      <td>32d6554713b0a813e8cdf8f01e89eb5c</td>\n",
       "    </tr>\n",
       "    <tr>\n",
       "      <th>2</th>\n",
       "      <td># Instruction\\n\\nGiven several concepts (i.e.,...</td>\n",
       "      <td>[]</td>\n",
       "      <td>[demonstrate_V, machine_N, sew_V, use_V]</td>\n",
       "      <td>f8efb2bbd593ee6e943cfa79aa347e2e</td>\n",
       "    </tr>\n",
       "    <tr>\n",
       "      <th>3</th>\n",
       "      <td># Instruction\\n\\nGiven several concepts (i.e.,...</td>\n",
       "      <td>[]</td>\n",
       "      <td>[car_N, drive_V, road_N, water_N]</td>\n",
       "      <td>de5f30479745102be44f5f1f572730bc</td>\n",
       "    </tr>\n",
       "    <tr>\n",
       "      <th>4</th>\n",
       "      <td># Instruction\\n\\nGiven several concepts (i.e.,...</td>\n",
       "      <td>[]</td>\n",
       "      <td>[background_N, decorate_V, music_N, tree_N]</td>\n",
       "      <td>93f2fe7880ba3dfbe9d3a56a87ef8ccf</td>\n",
       "    </tr>\n",
       "    <tr>\n",
       "      <th>...</th>\n",
       "      <td>...</td>\n",
       "      <td>...</td>\n",
       "      <td>...</td>\n",
       "      <td>...</td>\n",
       "    </tr>\n",
       "    <tr>\n",
       "      <th>395</th>\n",
       "      <td># Instruction\\n\\nGiven several concepts (i.e.,...</td>\n",
       "      <td>[]</td>\n",
       "      <td>[fix_V, light_N, roof_N, shirt_N, top_N]</td>\n",
       "      <td>580cab7ea4f73d6f6bf9d9e78fbe2c2c</td>\n",
       "    </tr>\n",
       "    <tr>\n",
       "      <th>396</th>\n",
       "      <td># Instruction\\n\\nGiven several concepts (i.e.,...</td>\n",
       "      <td>[]</td>\n",
       "      <td>[bag_N, cup_N, eat_V, sit_V, step_N]</td>\n",
       "      <td>d268462cbd3439997014bf02572327cf</td>\n",
       "    </tr>\n",
       "    <tr>\n",
       "      <th>397</th>\n",
       "      <td># Instruction\\n\\nGiven several concepts (i.e.,...</td>\n",
       "      <td>[]</td>\n",
       "      <td>[balance_N, board_N, fall_V, lose_V, ride_V]</td>\n",
       "      <td>82f5a6d4a2296b4af100b7da449fb65c</td>\n",
       "    </tr>\n",
       "    <tr>\n",
       "      <th>398</th>\n",
       "      <td># Instruction\\n\\nGiven several concepts (i.e.,...</td>\n",
       "      <td>[]</td>\n",
       "      <td>[attempt_V, brick_N, stand_V, street_N, worker_N]</td>\n",
       "      <td>92b102cb16200dedbfb0cea28ce8e3dd</td>\n",
       "    </tr>\n",
       "    <tr>\n",
       "      <th>399</th>\n",
       "      <td># Instruction\\n\\nGiven several concepts (i.e.,...</td>\n",
       "      <td>[]</td>\n",
       "      <td>[eye_N, hang_V, head_N, shut_V, squeeze_V]</td>\n",
       "      <td>0b99faf4939e50fdab403f59136e6de5</td>\n",
       "    </tr>\n",
       "  </tbody>\n",
       "</table>\n",
       "<p>400 rows × 4 columns</p>\n",
       "</div>"
      ],
      "text/plain": [
       "                                           instruction human_annotations  \\\n",
       "0    # Instruction\\n\\nGiven several concepts (i.e.,...                []   \n",
       "1    # Instruction\\n\\nGiven several concepts (i.e.,...                []   \n",
       "2    # Instruction\\n\\nGiven several concepts (i.e.,...                []   \n",
       "3    # Instruction\\n\\nGiven several concepts (i.e.,...                []   \n",
       "4    # Instruction\\n\\nGiven several concepts (i.e.,...                []   \n",
       "..                                                 ...               ...   \n",
       "395  # Instruction\\n\\nGiven several concepts (i.e.,...                []   \n",
       "396  # Instruction\\n\\nGiven several concepts (i.e.,...                []   \n",
       "397  # Instruction\\n\\nGiven several concepts (i.e.,...                []   \n",
       "398  # Instruction\\n\\nGiven several concepts (i.e.,...                []   \n",
       "399  # Instruction\\n\\nGiven several concepts (i.e.,...                []   \n",
       "\n",
       "                                           concept_set  \\\n",
       "0                 [catch_V, dog_N, frisbee_N, throw_V]   \n",
       "1                    [food_N, front_N, sit_V, table_N]   \n",
       "2             [demonstrate_V, machine_N, sew_V, use_V]   \n",
       "3                    [car_N, drive_V, road_N, water_N]   \n",
       "4          [background_N, decorate_V, music_N, tree_N]   \n",
       "..                                                 ...   \n",
       "395           [fix_V, light_N, roof_N, shirt_N, top_N]   \n",
       "396               [bag_N, cup_N, eat_V, sit_V, step_N]   \n",
       "397       [balance_N, board_N, fall_V, lose_V, ride_V]   \n",
       "398  [attempt_V, brick_N, stand_V, street_N, worker_N]   \n",
       "399         [eye_N, hang_V, head_N, shut_V, squeeze_V]   \n",
       "\n",
       "                                   id  \n",
       "0    468fa6fbb21bc3b0d8c156a628cbf222  \n",
       "1    32d6554713b0a813e8cdf8f01e89eb5c  \n",
       "2    f8efb2bbd593ee6e943cfa79aa347e2e  \n",
       "3    de5f30479745102be44f5f1f572730bc  \n",
       "4    93f2fe7880ba3dfbe9d3a56a87ef8ccf  \n",
       "..                                ...  \n",
       "395  580cab7ea4f73d6f6bf9d9e78fbe2c2c  \n",
       "396  d268462cbd3439997014bf02572327cf  \n",
       "397  82f5a6d4a2296b4af100b7da449fb65c  \n",
       "398  92b102cb16200dedbfb0cea28ce8e3dd  \n",
       "399  0b99faf4939e50fdab403f59136e6de5  \n",
       "\n",
       "[400 rows x 4 columns]"
      ]
     },
     "execution_count": 29,
     "metadata": {},
     "output_type": "execute_result"
    }
   ],
   "source": [
    "pd.DataFrame(ds['train'])"
   ]
  },
  {
   "cell_type": "code",
   "execution_count": null,
   "metadata": {},
   "outputs": [],
   "source": []
  }
 ],
 "metadata": {
  "kernelspec": {
   "display_name": "myenv",
   "language": "python",
   "name": "python3"
  },
  "language_info": {
   "codemirror_mode": {
    "name": "ipython",
    "version": 3
   },
   "file_extension": ".py",
   "mimetype": "text/x-python",
   "name": "python",
   "nbconvert_exporter": "python",
   "pygments_lexer": "ipython3",
   "version": "3.12.3"
  }
 },
 "nbformat": 4,
 "nbformat_minor": 2
}
